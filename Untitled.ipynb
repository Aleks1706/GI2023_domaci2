{
 "cells": [
  {
   "cell_type": "code",
   "execution_count": 8,
   "id": "2777867b",
   "metadata": {},
   "outputs": [
    {
     "name": "stdout",
     "output_type": "stream",
     "text": [
      "First read: \n",
      " C0HVYACXX120402:7:1207:5722:57044\t1187\t#20\t9483249\t27\t76M\t#20\t9483382\t209\tTTTTCAAACAGTATCTATGCCTGCCAAATGTGAACATATAAAAAAAAACCAGAATGTGCCATTCTGATTTAAACTG\tarray('B', [28, 28, 27, 29, 31, 30, 31, 31, 29, 31, 35, 30, 29, 31, 34, 30, 29, 23, 41, 32, 20, 30, 29, 34, 34, 29, 30, 31, 30, 30, 30, 33, 33, 26, 39, 12, 25, 19, 32, 30, 35, 28, 35, 33, 23, 33, 35, 36, 30, 38, 33, 41, 34, 35, 31, 33, 23, 30, 30, 36, 27, 32, 29, 34, 35, 41, 33, 31, 33, 29, 32, 32, 31, 31, 31, 34])\t[('XA', 'GL000217.1,-110754,76M,1;'), ('BD', 'NNNNNNNNNNNNNNNNNNNNNNNNNNNNNNNNNNNNNNNNNNNNNNNNNNNNNNNNNNNNNNNNNNNNNNNNNNNN'), ('MD', '76'), ('RG', '1'), ('BI', 'NNNNNNNNNNNNNNNNNNNNNNNNNNNNNNNNNNNNNNNNNNNNNNNNNNNNNNNNNNNNNNNNNNNNNNNNNNNN'), ('NM', 0), ('MQ', 27), ('AS', 76), ('XS', 71)]\n",
      "First read flags:\n",
      " 1187 \n",
      "\n",
      "Number of unmapped reads in the file: \n",
      " 17765\n",
      "Total number of reads: \n",
      " 2921629\n",
      "Number of reads with mapping quality 0: \n",
      " 126628\n",
      "Average mapping quality for all the reads: \n",
      " 55.91379158681681\n",
      "Average mapping quality if reads with 0 mapp quality are filtered out: \n",
      " 58.446975510921106\n"
     ]
    }
   ],
   "source": [
    "import pysam\n",
    "\n",
    "#set_verbosity for explicitly suppressing HTSlib's messages for the duration\n",
    "save = pysam.set_verbosity(0)\n",
    "file = pysam.AlignmentFile(\"merged-tumor.bam\", \"rb\")\n",
    "pysam.set_verbosity(save)\n",
    "\n",
    "#variables\n",
    "number_of_reads = 0\n",
    "total_mapping_quality = 0\n",
    "number_of_reads_with_quality_zero = 0\n",
    "unmapped_reads = 0 \n",
    "first_read_flag = True\n",
    "\n",
    "#for loop\n",
    "for read in file.fetch(until_eof = True):\n",
    "    if first_read_flag:\n",
    "        first_read = read\n",
    "        first_read_flag = False\n",
    "        \n",
    "    number_of_reads += 1\n",
    "    \n",
    "    if read.mapping_quality == 0 :\n",
    "        number_of_reads_with_quality_zero += 1\n",
    "    else :\n",
    "        total_mapping_quality += read.mapping_quality\n",
    "        \n",
    "    #Definition of flag fields : 0x0004 the query sequence itself is unmapped\n",
    "    if 4 & read.flag != 0 :\n",
    "        unmapped_reads += 1\n",
    "        \n",
    "file.close()\n",
    "\n",
    "print(\"First read: \\n {}\".format(first_read))\n",
    "print(\"First read flags:\\n {} \\n\".format(first_read.flag))\n",
    "\n",
    "print(\"Number of unmapped reads in the file: \\n {}\".format(unmapped_reads))\n",
    "print(\"Total number of reads: \\n {}\".format(number_of_reads))\n",
    "print(\"Number of reads with mapping quality 0: \\n {}\".format(number_of_reads_with_quality_zero))\n",
    "print(\"Average mapping quality for all the reads: \\n {}\".format(total_mapping_quality / number_of_reads))\n",
    "average_mapping_quality_with_no_0_quality = total_mapping_quality / (number_of_reads - number_of_reads_with_quality_zero)\n",
    "print(\"Average mapping quality if reads with 0 mapp quality are filtered out: \\n {}\".format(average_mapping_quality_with_no_0_quality))"
   ]
  },
  {
   "cell_type": "markdown",
   "id": "c801c09d",
   "metadata": {},
   "source": [
    "RESULTS:\n",
    "\n",
    "First read: \n",
    " C0HVYACXX120402:7:1207:5722:57044\t1187\t#20\t9483249\t27\t76M\t#20\t9483382\t209\tTTTTCAAACAGTATCTATGCCTGCCAAATGTGAACATATAAAAAAAAACCAGAATGTGCCATTCTGATTTAAACTG\tarray('B', [28, 28, 27, 29, 31, 30, 31, 31, 29, 31, 35, 30, 29, 31, 34, 30, 29, 23, 41, 32, 20, 30, 29, 34, 34, 29, 30, 31, 30, 30, 30, 33, 33, 26, 39, 12, 25, 19, 32, 30, 35, 28, 35, 33, 23, 33, 35, 36, 30, 38, 33, 41, 34, 35, 31, 33, 23, 30, 30, 36, 27, 32, 29, 34, 35, 41, 33, 31, 33, 29, 32, 32, 31, 31, 31, 34])\t[('XA', 'GL000217.1,-110754,76M,1;'), ('BD', 'NNNNNNNNNNNNNNNNNNNNNNNNNNNNNNNNNNNNNNNNNNNNNNNNNNNNNNNNNNNNNNNNNNNNNNNNNNNN'), ('MD', '76'), ('RG', '1'), ('BI', 'NNNNNNNNNNNNNNNNNNNNNNNNNNNNNNNNNNNNNNNNNNNNNNNNNNNNNNNNNNNNNNNNNNNNNNNNNNNN'), ('NM', 0), ('MQ', 27), ('AS', 76), ('XS', 71)]\n",
    "First read flags:\n",
    " 1187 \n",
    "\n",
    "Number of unmapped reads in the file: \n",
    " 17765\n",
    "Total number of reads: \n",
    " 2921629\n",
    "Number of reads with mapping quality 0: \n",
    " 126628\n",
    "Average mapping quality for all the reads: \n",
    " 55.91379158681681\n",
    "Average mapping quality if reads with 0 mapp quality are filtered out: \n",
    " 58.446975510921106"
   ]
  }
 ],
 "metadata": {
  "kernelspec": {
   "display_name": "Python 3 (ipykernel)",
   "language": "python",
   "name": "python3"
  },
  "language_info": {
   "codemirror_mode": {
    "name": "ipython",
    "version": 3
   },
   "file_extension": ".py",
   "mimetype": "text/x-python",
   "name": "python",
   "nbconvert_exporter": "python",
   "pygments_lexer": "ipython3",
   "version": "3.10.6"
  }
 },
 "nbformat": 4,
 "nbformat_minor": 5
}
